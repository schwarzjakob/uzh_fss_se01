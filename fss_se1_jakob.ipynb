{
 "cells": [
  {
   "cell_type": "markdown",
   "metadata": {},
   "source": [
    "# FSS SE-01 \n",
    "Jakob Schwarz <br>\n",
    "Mohammad Reza Baghban <br>\n",
    "Muhammad Ansar Butt"
   ]
  },
  {
   "cell_type": "code",
   "execution_count": 2,
   "metadata": {},
   "outputs": [],
   "source": [
    "import pydriller\n",
    "from pydriller import Repository\n",
    "import pandas as pd\n",
    "import matplotlib.pyplot as plt\n",
    "import os\n",
    "import regex as re\n",
    "import mccabe\n",
    "import seaborn as sns\n",
    "import json\n",
    "import lizard\n",
    "import logging\n",
    "import numpy as np\n",
    "from collections import Counter\n",
    "from itertools import combinations\n",
    "from datetime import timedelta\n",
    "from collections import defaultdict"
   ]
  },
  {
   "cell_type": "markdown",
   "metadata": {},
   "source": [
    "# Repository Setup and Procedure for React Codebase Analysis\n",
    "\n",
    "To keep our work organized and avoid modifying the React repository directly, we set up our own repository with React included in our `.gitignore` file (`/react`). This allows us to access the React codebase for analysis without committing any changes to it. We prepared for the assignment using the following steps:\n",
    "\n",
    "1. Clone the React codebase within our project directory:\n",
    "   ```bash\n",
    "   git clone https://github.com/facebook/react\n",
    "   ```\n",
    "\n",
    "2. Check out the required React version (v18.3.1) by navigating into the `react` directory and switching branches:\n",
    "   ```bash\n",
    "   cd react\n",
    "   git checkout v18.3.1\n",
    "   cd ..\n",
    "   ```\n",
    "\n",
    "By following this setup, we maintain a clean separation between our analysis files and the React codebase, ensuring that React remains unmodified in our own repository."
   ]
  },
  {
   "cell_type": "markdown",
   "metadata": {},
   "source": [
    "# Task 1: Component-Level Codebase Overview"
   ]
  },
  {
   "cell_type": "markdown",
   "metadata": {},
   "source": [
    "- Using the latest stable release of React, v18.3.1, list all the components. In\n",
    "React, there are two main types of components: Class-based Components and\n",
    "Functional Components. Class-based components are defined where there is\n",
    "a class declaration that extends ‘React.Component‘ or ‘React.PureComponent‘.\n",
    "Function-based components are JavaScript functions that return JSX elements\n",
    "(JavaScript XML, return elements enclosed in brackets (return <...>) ). To\n",
    "find these components in the React codebase, look for any ‘.js‘ file, and scan the\n",
    "file content for patterns mentioned above (hint: use regrex to find the patterns)"
   ]
  },
  {
   "cell_type": "code",
   "execution_count": null,
   "metadata": {},
   "outputs": [],
   "source": [
    "def list_react_components(directory='./react'):\n",
    "    class_components = []\n",
    "    function_components = []\n",
    "    \n",
    "    # Regular expressions to match components\n",
    "    class_component_pattern = re.compile(r'class\\s+(\\w+)\\s+extends\\s+React\\.(Component|PureComponent)')\n",
    "    function_component_pattern = re.compile(r'function\\s+(\\w+)\\s*\\(.*\\)\\s*\\{[^}]*return\\s*\\(<')\n",
    "\n",
    "    # Walk through the directory and analyze .js files\n",
    "    for root, _, files in os.walk(directory):\n",
    "        for file in files:\n",
    "            if file.endswith('.js'):\n",
    "                file_path = os.path.join(root, file)\n",
    "                \n",
    "                with open(file_path, 'r', encoding='utf-8') as f:\n",
    "                    content = f.read()\n",
    "                    \n",
    "                    # Find class components\n",
    "                    class_matches = class_component_pattern.findall(content)\n",
    "                    for match in class_matches:\n",
    "                        component_name = match[0]\n",
    "                        class_components.append((component_name, file_path))\n",
    "                    \n",
    "                    # Find function components\n",
    "                    function_matches = function_component_pattern.findall(content)\n",
    "                    for match in function_matches:\n",
    "                        component_name = match\n",
    "                        function_components.append((component_name, file_path))\n",
    "\n",
    "    # Print results\n",
    "    print(\"Class-based Components:\")\n",
    "    for component, path in class_components:\n",
    "        print(f\"Component: {component}, File: {path}\")\n",
    "    \n",
    "    print(\"\\nFunction-based Components:\")\n",
    "    for component, path in function_components:\n",
    "        print(f\"Component: {component}, File: {path}\")\n",
    "\n",
    "    return class_components, function_components\n",
    "\n",
    "# Run the function\n",
    "class_components, function_components = list_react_components()\n"
   ]
  },
  {
   "cell_type": "markdown",
   "metadata": {},
   "source": [
    "---"
   ]
  },
  {
   "cell_type": "markdown",
   "metadata": {},
   "source": [
    "- Use Madge tool<sup>3</sup> to detect dependencies between React files. Madge is a tool\n",
    "that analyzes dependencies in software projects making it easier to understand\n",
    "the complexities of file interactions within a codebase. Report all the dependen-\n",
    "cies in a JSON file. Use this JSON file and find and report the top 3 files with\n",
    "the highest number of dependencies. Provide the data in a JSON file with the\n",
    "following format:"
   ]
  },
  {
   "cell_type": "code",
   "execution_count": 33,
   "metadata": {},
   "outputs": [],
   "source": [
    "os.makedirs('./documentation', exist_ok=True)"
   ]
  },
  {
   "cell_type": "markdown",
   "metadata": {},
   "source": [
    "```bash\n",
    "npm install -g madge\n",
    "cd react\n",
    "madge --json . > ../documentation/dependencies_18.3.1.json\n",
    "```"
   ]
  },
  {
   "cell_type": "code",
   "execution_count": 34,
   "metadata": {},
   "outputs": [],
   "source": [
    "def analyze_dependencies(version):\n",
    "    input_file=(f'documentation/dependencies_{version}.json')\n",
    "    output_file= (f'documentation/top_dependencies_{version}.json')\n",
    "    # Load the dependencies data\n",
    "    with open(input_file, 'r') as f:\n",
    "        dependencies = json.load(f)\n",
    "    \n",
    "    # Count dependencies for each file\n",
    "    dependency_counts = {file: len(dependencies[file]) for file in dependencies}\n",
    "    \n",
    "    # Find the top 3 files with the highest number of dependencies\n",
    "    top_files = sorted(dependency_counts.items(), key=lambda x: x[1], reverse=True)[:3]\n",
    "    \n",
    "    # Format the results\n",
    "    top_dependencies = {file: dependencies[file] for file, _ in top_files}\n",
    "    \n",
    "    # Save the top dependencies to a JSON file\n",
    "    with open(output_file, 'w') as f:\n",
    "        json.dump(top_dependencies, f, indent=4)\n",
    "    \n",
    "    print(f\"Top dependencies saved to {output_file}\")"
   ]
  },
  {
   "cell_type": "code",
   "execution_count": 35,
   "metadata": {},
   "outputs": [
    {
     "name": "stdout",
     "output_type": "stream",
     "text": [
      "Top dependencies saved to documentation/top_dependencies_18.3.1.json\n"
     ]
    }
   ],
   "source": [
    "# Run the analysis\n",
    "version=\"18.3.1\"\n",
    "analyze_dependencies(version)"
   ]
  },
  {
   "cell_type": "markdown",
   "metadata": {},
   "source": [
    "---"
   ]
  },
  {
   "cell_type": "markdown",
   "metadata": {},
   "source": [
    "- Identify the commit that resulted in the most substantial change between v17.0.1\n",
    "and v17.0.2 versions of React. Use Git commands to explore the commit history\n",
    "and quantify changes based on the number of files affected. Document the\n",
    "commit hash, number of files changed, number of insertions and number of\n",
    "deletions."
   ]
  },
  {
   "cell_type": "markdown",
   "metadata": {},
   "source": [
    "```bash\n",
    "cd react\n",
    "git fetch --all\n",
    "git checkout v17.0.2\n",
    "git log v17.0.1..v17.0.2 --stat\n",
    "```"
   ]
  },
  {
   "cell_type": "markdown",
   "metadata": {},
   "source": [
    "**Most Substantial Commit Between v17.0.1. and v17.0.2**  \n",
    "- Commit Hash: `12adaffef7105e2714f82651ea51936c563fe15c`  \n",
    "- Number of Files Changed: 4  \n",
    "- Number of Insertions: 15  \n",
    "- Number of Deletions: 123\n",
    "\n",
    "<pre>\n",
    "<span style=\"color: yellow;\">commit 12adaffef7105e2714f82651ea51936c563fe15c (<span style=\"color: cyan;\">HEAD</span>, tag: v17.0.2, <span style=\"color: red;\">origin/17.0.2</span>)</span>\n",
    "Author: Brian Vaughn &lt;bvaughn@fb.com&gt;\n",
    "Date:   Thu Feb 18 11:21:52 2021 -0500\n",
    "\n",
    "    Remove scheduler sampling profiler shared array buffer (#20840)\n",
    "    \n",
    "    No one has been using this data so there's no reason to collect it. Event log has been maintained and tests have been updated.\n",
    "\n",
    " packages/scheduler/src/Scheduler.js                         |  2 <span style=\"color: red;\">--</span>\n",
    " packages/scheduler/src/SchedulerFeatureFlags.js             |  2 <span style=\"color: green;\">+-</span>\n",
    " packages/scheduler/src/SchedulerProfiling.js                | 56 <span style=\"color: red;\">--------------------------------------------------------</span>\n",
    " packages/scheduler/src/__tests__/SchedulerProfiling-test.js | 78 <span style=\"color: green;\">+++++++++++++</span><span style=\"color: red;\">----------------------------------------------------------------</span>\n",
    " 4 files changed, 15 insertions(+), 123 deletions(-)\n",
    "</pre>"
   ]
  },
  {
   "cell_type": "markdown",
   "metadata": {},
   "source": [
    "---"
   ]
  },
  {
   "cell_type": "markdown",
   "metadata": {},
   "source": [
    "- Check out the repository at the commit hash identified in the previous step. This allows you to view the state of the codebase at the time of that commit. After checking out, use Madge to analyze the dependencies at this specific commit point. To trace how dependencies changed and evolved over time compare these dependencies to those detected before the checkout (i.e., in the current latest version). Document any new dependencies introduced, or dependencies removed."
   ]
  },
  {
   "cell_type": "markdown",
   "metadata": {},
   "source": [
    "```bash\n",
    "git checkout b2bbee7ba31bb7d212a9ff2e682a695a32f8a87f\n",
    "madge --json . > ../documentation/dependencies_b2bbee7ba31bb7d212a9ff2e682a695a32f8a87f.json\n",
    "```"
   ]
  },
  {
   "cell_type": "code",
   "execution_count": 38,
   "metadata": {},
   "outputs": [],
   "source": [
    "def compare_dependencies(version_one, version_two):\n",
    "    file_one=(f'documentation/dependencies_{version_one}.json')\n",
    "    file_two=(f'documentation/dependencies_{version_two}.json')\n",
    "    output_file=(f'documentation/dependenies_changed_{version_one}_{version_two}.json')\n",
    "    # Load the dependency files\n",
    "    with open(file_one, 'r') as f:\n",
    "        file_one_dependency = json.load(f)\n",
    "    \n",
    "    with open(file_two, 'r') as f:\n",
    "        file_two_dependency = json.load(f)\n",
    "    \n",
    "    # Compare dependencies\n",
    "    introduced = {}\n",
    "    removed = {}\n",
    "    \n",
    "    # Check for new dependencies\n",
    "    for file, dependency in file_two_dependency.items():\n",
    "        if file not in file_one_dependency:\n",
    "            introduced[file] = dependency\n",
    "        else:\n",
    "            new_dependency = set(dependency) - set(file_one_dependency[file])\n",
    "            if new_dependency:\n",
    "                introduced[file] = list(new_dependency)\n",
    "    \n",
    "    # Check for removed dependencies\n",
    "    for file, dependency in file_one_dependency.items():\n",
    "        if file not in file_two_dependency:\n",
    "            removed[file] = dependency\n",
    "        else:\n",
    "            removed_dependency = set(dependency) - set(file_two_dependency[file])\n",
    "            if removed_dependency:\n",
    "                removed[file] = list(removed_dependency)\n",
    "    \n",
    "    # Save the results\n",
    "    changes = {\n",
    "        \"introduced\": introduced,\n",
    "        \"removed\": removed\n",
    "    }\n",
    "    \n",
    "    with open(output_file, 'w') as f:\n",
    "        json.dump(changes, f, indent=4)\n",
    "    \n",
    "    print(f\"Dependency changes saved to {output_file}\")"
   ]
  },
  {
   "cell_type": "code",
   "execution_count": 39,
   "metadata": {},
   "outputs": [
    {
     "name": "stdout",
     "output_type": "stream",
     "text": [
      "Dependency changes saved to documentation/dependenies_changed_b2bbee7ba31bb7d212a9ff2e682a695a32f8a87f_18.3.1.json\n"
     ]
    }
   ],
   "source": [
    "latest_version='18.3.1'\n",
    "commit_version='b2bbee7ba31bb7d212a9ff2e682a695a32f8a87f'\n",
    "# Run the comparison\n",
    "compare_dependencies(commit_version, latest_version)"
   ]
  },
  {
   "cell_type": "markdown",
   "metadata": {},
   "source": [
    "---"
   ]
  },
  {
   "cell_type": "markdown",
   "metadata": {},
   "source": [
    "# Task 2: Temporal and Logical Coupling Analysis"
   ]
  },
  {
   "cell_type": "markdown",
   "metadata": {},
   "source": [
    "Logical coupling often occurs because two seemingly separate parts of the code are\n",
    "functionally related. It can be detected by mining software repositories to see which\n",
    "files or modules tend to be committed together frequently over time. Temporal coupling\n",
    "can arise from development practices, such as when features are developed in\n",
    "parallel and merged at similar times. This is observed by looking at commits and/or\n",
    "their timestamps to identify files that are often changed together in commits or in close\n",
    "temporal proximity to one another."
   ]
  },
  {
   "cell_type": "markdown",
   "metadata": {},
   "source": [
    "- To analyze coupling, look at files that were changed in a specific time window.\n",
    "Analyse which files are changed together (Not necessarily the same commit)\n",
    "within a time window of 24, 48, and 72 hours of each other. Report your result\n",
    "in a JSON file with the following format. For each time window, report the top 3\n",
    "file pairs with the highest degree of temporal coupling."
   ]
  },
  {
   "cell_type": "markdown",
   "metadata": {},
   "source": [
    "\n",
    "Decisions: We have limited files to .JS files to be aligned with the limitation we applied in the 1st task"
   ]
  },
  {
   "cell_type": "code",
   "execution_count": null,
   "metadata": {},
   "outputs": [],
   "source": [
    "# Configure logging\n",
    "logging.basicConfig(\n",
    "    level=logging.INFO,\n",
    "    format=\"%(asctime)s - %(levelname)s - %(message)s\",\n",
    "    datefmt=\"%Y-%m-%d %H:%M:%S\"\n",
    ")\n",
    "\n",
    "\"\"\" Extract commits with `.js` files from the repository and sort them by timestamp. \"\"\"\n",
    "def extractAndSortCommits(repo_path):\n",
    "    \n",
    "    logging.info(\"Starting repository mining...\")\n",
    "    commits = []\n",
    "\n",
    "    for commit in pydriller.Repository(repo_path).traverse_commits():\n",
    "        jsFiles = {mf.new_path for mf in commit.modified_files if mf.new_path and mf.new_path.endswith('.js')}\n",
    "        if jsFiles:  # Only add commits with .js files\n",
    "            commitRecord = { \"timestamp\": commit.committer_date, \"files\": jsFiles }\n",
    "            commits.append(commitRecord)\n",
    "\n",
    "    commits.sort(key=lambda x: x[\"timestamp\"])\n",
    "    logging.info(f\"Total commits with `.js` files: {len(commits)}\")\n",
    "    return commits\n",
    "\n",
    "\"\"\" Analyze temporal coupling for a subset of commits. \"\"\"\n",
    "def analyzeTemporalCoupling(commits, time_windows):\n",
    "    coupling_counts = {timeWindow: defaultdict(int) for timeWindow in time_windows}\n",
    "\n",
    "    for index, current_commit in enumerate(commits):\n",
    "        for timeWindow in time_windows:\n",
    "            time_limit = current_commit[\"timestamp\"] + timedelta(hours=timeWindow)\n",
    "            current_files = current_commit[\"files\"]\n",
    "\n",
    "            for next_commit in commits[index + 1:]:\n",
    "                if next_commit[\"timestamp\"] > time_limit:\n",
    "                    break\n",
    "\n",
    "                for file1 in current_files:\n",
    "                    for file2 in next_commit[\"files\"]:\n",
    "                        if file1 != file2:\n",
    "                            file_pair = tuple(sorted([file1, file2]))\n",
    "                            coupling_counts[timeWindow][file_pair] += 1\n",
    "    return coupling_counts\n",
    "\n",
    "\"\"\" Extract the top N file pairs with the highest degree of temporal coupling for each time window \"\"\"\n",
    "def extractTopCouplings(coupling_counts, topN=3):\n",
    "    results = {}\n",
    "    for timeWindow, counts in coupling_counts.items():\n",
    "        sortedCounts = sorted(counts.items(), key=lambda x: x[1], reverse=True)[:topN]\n",
    "        results[timeWindow] = [{\"files\": list(pair), \"count\": count} for pair, count in sortedCounts]\n",
    "    return results\n",
    "\n",
    "def generateCouplingReport(coupling_counts):\n",
    "    results = []\n",
    "    for timeWindow, counts in coupling_counts.items():\n",
    "        for file_pair, commit_count in counts.items():\n",
    "            # Add data in the required format\n",
    "            results.append({\n",
    "                \"file_pair\": list(file_pair),\n",
    "                \"coupled_commits\": {\n",
    "                    \"time_window\": timeWindow,\n",
    "                    \"commit_count\": commit_count\n",
    "                }\n",
    "            })\n",
    "    return results\n",
    "\n",
    "\"\"\" Save data to a JSON file. \"\"\"\n",
    "def saveToJson(data, filename):\n",
    "    with open(filename, 'w') as f:\n",
    "        json.dump(data, f, indent=4)\n",
    "\n",
    "def main():\n",
    "    repo_path = \"./react\"  # Path to the repository\n",
    "    raw_output_file = \"Task2.1 - Temporal Coupling - Raw.json\"\n",
    "    top_output_file = \"Task2.1 - Temporal Coupling - Top3.json\"\n",
    "    time_windows = [24, 48, 72]\n",
    "\n",
    "    # Temporal Coupling Analysis\n",
    "    logging.info(\"Starting temporal coupling analysis...\")\n",
    "    commits = extractAndSortCommits(repo_path)\n",
    "    coupling_counts = analyzeTemporalCoupling(commits, time_windows)\n",
    "\n",
    "    # Save all results before limiting\n",
    "    full_results = generateCouplingReport(coupling_counts)\n",
    "    saveToJson(full_results, raw_output_file)\n",
    "    logging.info(f\"Full temporal coupling results saved to {raw_output_file}.\")\n",
    "\n",
    "    # Limit to top 3 and save separately\n",
    "    temporal_results = extractTopCouplings(coupling_counts, topN=3)\n",
    "    saveToJson(temporal_results, top_output_file)\n",
    "    logging.info(f\"Top 3 temporal coupling results saved to {top_output_file}.\")\n",
    "\n",
    "    logging.info(\"Analysis complete.\")\n",
    "\n",
    "main()\n"
   ]
  },
  {
   "cell_type": "markdown",
   "metadata": {},
   "source": [
    "Overall Temporal coupling saved to ./Task2.1 - Temporal Coupling - Raw.json and zipped in 7z\n",
    "\n",
    "Top 3 Temporal coupling saved to ./Task2.1 - Temporal Coupling - Top3.json\n"
   ]
  },
  {
   "cell_type": "markdown",
   "metadata": {},
   "source": [
    "---"
   ]
  },
  {
   "cell_type": "markdown",
   "metadata": {},
   "source": [
    "- Identify cases of logical coupling by finding files frequently committed together.\n",
    "Report your findings in a JSON file and report the top 3 file pairs with the highest\n",
    "degree of logical coupling."
   ]
  },
  {
   "cell_type": "markdown",
   "metadata": {},
   "source": [
    "\n",
    "Decisions: We have limited files to .JS files to be aligned with the limitation we applied in the 1st task"
   ]
  },
  {
   "cell_type": "code",
   "execution_count": null,
   "metadata": {},
   "outputs": [],
   "source": [
    "# Configure logging to output INFO level messages\n",
    "logging.basicConfig(\n",
    "    level=logging.INFO,  # Set logging level to INFO to see INFO messages\n",
    "    format=\"%(asctime)s - %(levelname)s - %(message)s\",\n",
    "    datefmt=\"%Y-%m-%d %H:%M:%S\"\n",
    ")\n",
    "\n",
    "\"\"\" \n",
    "    Analyze logical coupling in a Git repository and return top file pairs.\n",
    "    Returns: list of Top file pairs committed together with their frequencies.\n",
    "\"\"\"\n",
    "def analyzeLogicalCoupling(repo_path, top_n=3):  \n",
    "\n",
    "    filePairs = Counter()\n",
    "\n",
    "    # Traverse repository commits\n",
    "    for commit_counter, commit in enumerate(Repository(repo_path).traverse_commits(), start=1):\n",
    "        logging.info(f\"Date: {commit.committer_date} | {commit.hash} by {commit.author.name}\")\n",
    "        javaScriptFiles = [mod.new_path for mod in commit.modified_files if mod.new_path and mod.new_path.endswith('.js')]\n",
    "\n",
    "        if len(javaScriptFiles) > 1:\n",
    "            sortedJsFiles = sorted(javaScriptFiles)\n",
    "            allPossibleCombination = combinations(sortedJsFiles,2)\n",
    "            filePairs.update(allPossibleCombination)\n",
    "\n",
    "    # Get top file pairs\n",
    "    return filePairs\n",
    "\n",
    "\"\"\" Generate logical coupling data in the required JSON format. \"\"\"\n",
    "def generateLogicalCouplingReport(filePairs):\n",
    "    results = [\n",
    "        {\n",
    "            \"file_pair\": list(pair),\n",
    "            \"commits\": count\n",
    "        }\n",
    "        for pair, count in filePairs.items()\n",
    "    ]\n",
    "    return results\n",
    "\n",
    "\"\"\" Extract the top N logical couplings. \"\"\"\n",
    "def extractTopCouplings(filePairs, top_n=3):\n",
    "    topCouplings = filePairs.most_common(top_n)\n",
    "    return [{\"file_pair\": list(pair), \"commits\": count} for pair, count in topCouplings]\n",
    "\n",
    "\"\"\" Save data to a JSON file. \"\"\"\n",
    "def saveToJson(data, filename):\n",
    "    with open(filename, 'w') as f:\n",
    "        json.dump(data, f, indent=4)\n",
    "\n",
    "def main():\n",
    "    repo_path = \"./react\"  # Path to the repository\n",
    "    raw_output_file = \"Task2.2 - Logical Coupling - Raw.json\"\n",
    "    top_output_file = \"Task2.2 - Logical Coupling - Top3.json\"\n",
    "\n",
    "    print(\"Analyzing logical coupling...\")\n",
    "    filePairs = analyzeLogicalCoupling(repo_path)\n",
    "\n",
    "    # Save all results before filtering\n",
    "    raw_results = generateLogicalCouplingReport(filePairs)\n",
    "    saveToJson(raw_results, raw_output_file)\n",
    "    print(f\"Full results saved to {raw_output_file}\")\n",
    "\n",
    "    # Save top 3 results\n",
    "    top_results = extractTopCouplings(filePairs, top_n=3)\n",
    "    saveToJson(top_results, top_output_file)\n",
    "    print(f\"Top 3 results saved to {top_output_file}\")\n",
    "\n",
    "main()"
   ]
  },
  {
   "cell_type": "markdown",
   "metadata": {},
   "source": [
    "Overall Logical coupling saved to ./Task2.2 - Logical Coupling - Raw.json and zipped in 7z\n",
    "\n",
    "Top 3 Logical coupling saved to ./Task2.2 - Logical Coupling - Top3.json\n"
   ]
  },
  {
   "cell_type": "markdown",
   "metadata": {},
   "source": [
    "---"
   ]
  },
  {
   "cell_type": "markdown",
   "metadata": {},
   "source": [
    "- Compare the top 3 pairs of logical coupling and temporal coupling with the dependencies\n",
    "you found in Task 1 and explain whether or not these couplings align\n",
    "with dependencies."
   ]
  },
  {
   "cell_type": "markdown",
   "metadata": {},
   "source": [
    "We could observe files in the temporal coupling exist on the dependecies of three top items in task 1 (by considering different path but similar name with post fix of new), however for logical coupling we could not see any relation "
   ]
  },
  {
   "cell_type": "markdown",
   "metadata": {},
   "source": [
    "---"
   ]
  },
  {
   "cell_type": "markdown",
   "metadata": {},
   "source": [
    "# Task 3: Analyzing Commit Messages for Defect Indicators"
   ]
  },
  {
   "cell_type": "markdown",
   "metadata": {},
   "source": [
    "Defective hotspots are areas in the codebase where defects are frequently found.\n",
    "This task utilizes a simple yet effective approach to identify these hotspots by ana-\n",
    "lyzing commit messages for keywords that indicate defect resolutions, such as ”fix”,\n",
    "”bug”, ”error”, or ”issue”. This analysis will provide insights into the frequency and\n",
    "distribution of defect-related activities within the project."
   ]
  },
  {
   "cell_type": "markdown",
   "metadata": {},
   "source": [
    "Use Git to extract all commit messages from the repository. Analyze these messages to detect the presence of specific keywords (For example bug fix) related to defect fixes.<br>\n",
    "For the purpose of this assignment we will consider the word \"bug\" for the analysis."
   ]
  },
  {
   "cell_type": "code",
   "execution_count": 3,
   "metadata": {},
   "outputs": [
    {
     "name": "stdout",
     "output_type": "stream",
     "text": [
      "Commit Count 574\n",
      "Files List 1440\n"
     ]
    }
   ],
   "source": [
    "repo = pydriller.Repository('react')\n",
    "\n",
    "commit_list = []\n",
    "files_dict = {}\n",
    "\n",
    "for commit in repo.traverse_commits():\n",
    "    if \"bug\" in commit.msg:\n",
    "        commit_list.append(commit.hash)\n",
    "        for file in commit.modified_files:\n",
    "            if not file.old_path:\n",
    "                files_dict[file.new_path] = 1\n",
    "            elif not file.new_path:\n",
    "                if file.old_path in files_dict:\n",
    "                    files_dict[file.old_path] += 1\n",
    "                else:\n",
    "                    files_dict[file.old_path] = 1\n",
    "            else:\n",
    "                if file.old_path in files_dict:\n",
    "                    files_dict[file.new_path] = files_dict.pop(file.old_path) + 1\n",
    "                else:\n",
    "                    files_dict[file.new_path] = 1\n",
    "\n",
    "print(\"Commit Count\", len(commit_list))\n",
    "print(\"Files List\", len(list(files_dict.keys())))"
   ]
  },
  {
   "cell_type": "markdown",
   "metadata": {},
   "source": [
    "We are traversing the git history using pydriller and isolating all commits that contain the word bug. We then create a map with FilePath as the key, and Commit Count as value. <br>\n",
    "The reason we used FilePath instead of FileName is because Files in different subdirectories can have the same name but FilePath will remain unique. <br>"
   ]
  },
  {
   "cell_type": "markdown",
   "metadata": {},
   "source": [
    "Compile a list of all commits that include the identified keywords. Quantify these\n",
    "results to determine which files are most frequently associated with these commits. <br>\n",
    "The json file with name \"file_to_bug_count.json\" is created, and stored in 'documentation' folder, and contains a list of objects of filename and count  (sorted by count). "
   ]
  },
  {
   "cell_type": "code",
   "execution_count": 4,
   "metadata": {},
   "outputs": [],
   "source": [
    "json_list = [{key.split('/')[-1]: val} for key, val in files_dict.items()]\n",
    "json_list.sort(key=lambda x: list(x.values())[-1], reverse=True)\n",
    "\n",
    "with open(\"documentation/file_to_bug_count.json\", \"w\") as f:\n",
    "    json.dump(json_list, f)\n",
    "f.close()"
   ]
  },
  {
   "cell_type": "markdown",
   "metadata": {},
   "source": [
    "Calculate the cyclomatic complexity for each file identified in this JSON file.\n",
    "Record these complexity scores and visualize the correlation between cyclomatic complexity and the frequency of defects. This analysis will help assess\n",
    "whether higher complexity correlates with a higher frequency of defects. Consider using tools like McCabe or Lizard for complexity analysis."
   ]
  },
  {
   "cell_type": "code",
   "execution_count": 5,
   "metadata": {},
   "outputs": [],
   "source": [
    "existing_files = [file for file in files_dict.keys() if file and os.path.exists('react/'+file)]\n",
    "\n",
    "complexity_map = {file: lizard.analyze_file('react/'+file).average_cyclomatic_complexity for file in existing_files}\n",
    "\n",
    "x = [files_dict[key] for key in existing_files]\n",
    "y = [complexity_map[key] for key in existing_files]"
   ]
  },
  {
   "cell_type": "markdown",
   "metadata": {},
   "source": [
    "We have not handled the case of deleted files as those files are not a part of the version 18.3.1."
   ]
  },
  {
   "cell_type": "code",
   "execution_count": 6,
   "metadata": {},
   "outputs": [
    {
     "data": {
      "image/png": "[encoded data removed]",
      "text/plain": [
       "<Figure size 640x480 with 1 Axes>"
      ]
     },
     "metadata": {},
     "output_type": "display_data"
    }
   ],
   "source": [
    "plt.scatter(x, y)\n",
    "plt.xlabel('Commit Count')\n",
    "plt.ylabel('Cyclomatic Complexity')\n",
    "plt.show()"
   ]
  },
  {
   "cell_type": "markdown",
   "metadata": {},
   "source": [
    "The graph shows that Commit Count and Cyclomatic Complexity share an inverse relationship. This may be because frequent interaction with the file leads to simplification of code logic, reducing the Cyclomatic Complexity."
   ]
  }
 ],
 "metadata": {
  "kernelspec": {
   "display_name": "venv",
   "language": "python",
   "name": "python3"
  },
  "language_info": {
   "codemirror_mode": {
    "name": "ipython",
    "version": 3
   },
   "file_extension": ".py",
   "mimetype": "text/x-python",
   "name": "python",
   "nbconvert_exporter": "python",
   "pygments_lexer": "ipython3",
   "version": "3.12.6"
  }
 },
 "nbformat": 4,
 "nbformat_minor": 2
}
